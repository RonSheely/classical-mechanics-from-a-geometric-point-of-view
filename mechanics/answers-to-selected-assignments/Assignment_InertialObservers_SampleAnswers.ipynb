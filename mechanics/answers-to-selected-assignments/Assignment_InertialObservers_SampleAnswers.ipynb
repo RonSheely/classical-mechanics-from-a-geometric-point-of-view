{
  "nbformat": 4,
  "nbformat_minor": 0,
  "metadata": {
    "colab": {
      "provenance": [],
      "include_colab_link": true
    },
    "kernelspec": {
      "name": "python3",
      "display_name": "Python 3"
    },
    "language_info": {
      "name": "python"
    }
  },
  "cells": [
    {
      "cell_type": "markdown",
      "metadata": {
        "id": "view-in-github",
        "colab_type": "text"
      },
      "source": [
        "<a href=\"https://colab.research.google.com/github/mugalan/classical-mechanics-from-a-geometric-point-of-view/blob/main/mechanics/answers-to-selected-assignments/Assignment_InertialObservers_SampleAnswers.ipynb\" target=\"_parent\"><img src=\"https://colab.research.google.com/assets/colab-badge.svg\" alt=\"Open In Colab\"/></a>"
      ]
    },
    {
      "cell_type": "markdown",
      "metadata": {
        "id": "4e6JifAFk_ga"
      },
      "source": [
        "# Assignment #1: Inertial Observers\n",
        "\n",
        "* This is Assignment#1 on Classical Mechanics. It is intended to get you to relate our standard notions of physical space and time to the laws of Galilean Galilei.\n",
        "\n",
        "* Save this file in your Institutional G-Suite google drive and rename it starting with your index number. For example if you are E/90/512 then rename the file to\n",
        "'E90512_Assignment#1_InertialObservers.ipynb'\n",
        "\n",
        "* Get started!\n",
        "\n",
        "* Once complete share with smaithri@eng.pdn.ac.lk\n",
        "\n",
        "* These assignments supplement the note:\n",
        "\n",
        "https://github.com/mugalan/lessons/blob/main/mechanics/class-notes/Mugas_Classical_Mechanics.ipynb"
      ]
    },
    {
      "cell_type": "markdown",
      "metadata": {
        "id": "YV8qrDvI-TXW"
      },
      "source": [
        "# Setting Up"
      ]
    },
    {
      "cell_type": "code",
      "metadata": {
        "id": "1ZbQxewK90S4"
      },
      "source": [
        "import numpy as np\n",
        "import scipy as sp\n",
        "from scipy.integrate import odeint\n",
        "import math\n",
        "from numpy import linalg\n",
        "import sympy\n",
        "\n",
        "from sympy import symbols\n",
        "from sympy import *\n",
        "\n",
        "import plotly.graph_objects as go"
      ],
      "execution_count": null,
      "outputs": []
    },
    {
      "cell_type": "code",
      "metadata": {
        "id": "CHMEesw6-A5e"
      },
      "source": [
        "class mugas_rigid_body_functions:\n",
        "\n",
        "  def __init__(self):\n",
        "    self=[];\n",
        "\n",
        "  def simulateDySystem(self, dynamicSystemModel, Tmax, dT, X0, sysPara, figTitle, xLabel, yLabel):\n",
        "    t = np.linspace(0, Tmax, int(Tmax/dT+1))\n",
        "    sol = odeint(dynamicSystemModel, X0, t, args=(sysPara,));\n",
        "    self.soln=sol;\n",
        "    fig = go.Figure()\n",
        "    [nt,nS]=sol.shape;\n",
        "\n",
        "    # Add traces\n",
        "    for nn in range(nS):\n",
        "      fig.add_trace(go.Scatter(x=t, y=sol[:,nn], mode='lines+markers', name='x'+str(nn+1)))\n",
        "      fig.update_layout(title=figTitle, xaxis=dict(title=xLabel),yaxis=dict(title=yLabel))\n",
        "\n",
        "    fig.show()\n",
        "    return [t,sol,fig]\n",
        "\n",
        "  def hatMatrix(self, X):\n",
        "    return np.array([[0., -X[2], X[1]],[X[2], 0., -X[0]],[-X[1], X[0], 0.]])\n",
        "\n",
        "  def qFromAxisAngles(self, theta, unitAxis):\n",
        "    return np.concatenate(([np.cos(theta/2)],np.sin(theta/2)*np.array(unitAxis)))\n",
        "\n",
        "  def RfromQuaternions(self,q):\n",
        "    q0=q[0]; w=q[1:];\n",
        "    R=np.identity(3)+2*q0*self.hatMatrix(w)+2*self.hatMatrix(w) @ self.hatMatrix(w);\n",
        "    return R\n",
        "\n",
        "  def rotationMatrix2EulerAngles(self,R):\n",
        "    if R[2,2] <1:\n",
        "      if R[2,2] > -1:\n",
        "        theta2=math.acos(R[2,2]);\n",
        "        theta1=math.atan2(R[0,2],R[1,2]);\n",
        "        theta3=math.atan2(R[2,0],-R[2,1]);\n",
        "      else: #R[2,2]=-1 No Unique solution\n",
        "        theta2=np.pi;\n",
        "        theta1=-math.atan2(R[0,1],-R[0,0]);\n",
        "        theta3=0;\n",
        "    else: # R[2,2] = +1 No Unique solution\n",
        "      theta2 = 0;\n",
        "      theta1 = math.atan2(R[0,1],R[0,0]) ;\n",
        "      theta3 = 0;\n",
        "    return [np.pi-theta1,theta2,np.pi-theta3]\n",
        "\n",
        "  def Re3equalsgamma(self,gamma):\n",
        "    theta=math.acos(gamma[2]);\n",
        "    n1=-gamma[1]/np.sin(theta);\n",
        "    n2=gamma[0]/np.sin(theta);\n",
        "    q00=self.qFromAxisAngles(theta,[n1,n2,0]);\n",
        "\n",
        "    return self.RfromQuaternions(q00)\n",
        "\n",
        "  def rotate_and_translate(self,objectVertices,R,b):\n",
        "    #object vertices should be given as an numpy array of shape (3,n)\n",
        "    #Ex - X=[0, 0, 2, 2, 0, 0, 2, 2], Y=[0, 2, 2, 0, 0, 2, 2, 0], Z=[0, 0, 0, 0, 1, 1, 1, 1]; objectVertices=[X,Y,Z]\n",
        "    return np.array([[b[0],b[1],b[2]]]).T + R @ objectVertices\n",
        "\n",
        "  def rigid_body_simulation(self, dt,Tmax,parameters, centerOfMass, M,II,ICq,ICOmega,ICb,ICv):\n",
        "    invII=linalg.inv(II);\n",
        "    timeSteps=np.arange(0,Tmax+dt,dt);\n",
        "    R=self.RfromQuaternions(ICq);\n",
        "    Omega=ICOmega;\n",
        "    spPi=R @ II @Omega;\n",
        "    b=ICb;\n",
        "    v=ICv;\n",
        "    p=M*v;\n",
        "\n",
        "    Eout=[[R,b]];\n",
        "    Omegaout=[Omega];\n",
        "    vOut=[v];\n",
        "    for t in timeSteps:\n",
        "      if linalg.norm(Omega)>=0.0001:\n",
        "        nOmega=Omega/linalg.norm(Omega);\n",
        "        thetaOmegat=dt*linalg.norm(Omega);\n",
        "      else:\n",
        "        nOmega=np.array([0,0,0]);\n",
        "        thetaOmegat=0;\n",
        "\n",
        "      qOmegat=np.concatenate(([np.cos(thetaOmegat/2)],np.sin(thetaOmegat/2)*nOmega));\n",
        "      #print(qOmega)\n",
        "      R=R @ self.RfromQuaternions(qOmegat);\n",
        "      b=b+dt*v;\n",
        "      [T,f]=forceModel(self, parameters, centerOfMass, M,II,R,b,Omega,v);\n",
        "      tau=R @ T; #-hatMatrix(R @ [1.0,1.0,.5]) @ [0,0,1];\n",
        "      spPi=spPi+dt*(tau);\n",
        "      Omega=invII @ R.T @ spPi;\n",
        "      p=p+dt*f\n",
        "      v=p/M;\n",
        "\n",
        "\n",
        "      Eout+=[[R,b]]; #np.concatenate((Rout,R));\n",
        "      Omegaout+=[Omega]; #np.concatenate((Omegaout,Omega));\n",
        "      vOut+=[v];\n",
        "\n",
        "    return [Eout,Omegaout,vOut]\n",
        "\n",
        "  def addOrthNormFrame(self, fig, o, R, axisRange, axisColor):\n",
        "    e1=[1,0,0]; e2=[0,1,0]; e3=[0,0,1];\n",
        "    b1=R @ e1; b2=R @ e2; b3=R @ e3;\n",
        "    fig.add_trace(go.Scatter3d(x=[str(o[0]),str(o[0]+b1[0])], y=[str(o[1]),str(o[1]+b1[1])], z=[str(o[2]),str(o[2]+b1[2])], hoverinfo='x+y+z', mode='lines', line=dict(width=8, color=axisColor)))\n",
        "    fig.add_trace(go.Scatter3d(x=[str(o[0]),str(o[0]+b2[0])], y=[str(o[1]),str(o[1]+b2[1])], z=[str(o[2]),str(o[2]+b2[2])], hoverinfo='x+y+z', mode='lines', line=dict(width=8, color=axisColor)))\n",
        "    fig.add_trace(go.Scatter3d(x=[str(o[0]),str(o[0]+b3[0])], y=[str(o[1]),str(o[1]+b3[1])], z=[str(o[2]),str(o[2]+b3[2])], hoverinfo='x+y+z', mode='lines', line=dict(width=8, color=axisColor)))\n",
        "    fig.update_layout(showlegend=False, scene=dict(xaxis=dict(range=axisRange[0], autorange=False), yaxis=dict(range=axisRange[1], autorange=False), zaxis=dict(range=axisRange[2], autorange=False), aspectratio=dict(x=1, y=1, z=1)))\n",
        "    return fig\n",
        "\n",
        "  def cube_vertices(self,cubeDimensions):\n",
        "    l=cubeDimensions[0]; w=cubeDimensions[1]; h=cubeDimensions[2];\n",
        "    X=[0, 0, l, l, 0, 0, l, l]; Y=[0, w, w, 0, 0, w, w, 0]; Z=[0, 0, 0, 0, h, h, h, h]; XX=[X,Y,Z];\n",
        "    #X=[-l, -l, l, l, -l, -l, l, l]; Y=[-w, w, w, -w, -w, w, w, -w]; Z=[-h, -h, -h, -h, h, h, h, h]; XX=[X,Y,Z];\n",
        "    return XX\n",
        "\n",
        "  def simulating_a_cube(self, dt, Tmax, cubeDimensions, parameters, centerOfMass, M,II,ICq,ICOmega,ICb,ICv):\n",
        "    XX=self.cube_vertices(cubeDimensions);\n",
        "\n",
        "    [Es,bs,vs]=self.rigid_body_simulation(dt, Tmax, parameters, centerOfMass, M,II,ICq,ICOmega,ICb,ICv);\n",
        "    R00=self.Re3equalsgamma(centerOfMass)\n",
        "    XX=R00.T @ XX;\n",
        "\n",
        "    ICR=self.RfromQuaternions(ICq);\n",
        "    XX0=ICR @ XX;\n",
        "    #qR00=qFromAxisAngles(np.pi/2,np.array([0,1,0]));\n",
        "    #R00=RfromQuaternions(qR00);\n",
        "\n",
        "\n",
        "    rotatedVertices=[[XX0]]\n",
        "    for E in Es:\n",
        "      R=E[0];\n",
        "      b=E[1];\n",
        "      XXi=qq.rotate_and_translate(XX,R,b);\n",
        "      XX0=XXi;\n",
        "      rotatedVertices+=[[XX0]];\n",
        "    return rotatedVertices\n",
        "\n",
        "  def animate_particle_motion(self, XX, axisRange, figTitle):\n",
        "    xx=[jj[0] for jj in XX]\n",
        "    yy=[jj[1] for jj in XX]\n",
        "    zz=[jj[2] for jj in XX]\n",
        "\n",
        "    fig = go.Figure(\n",
        "        data=[go.Scatter3d(x=[xx[0]], y=[yy[0]],z=[zz[0]],\n",
        "                        mode=\"markers\",\n",
        "                        marker=dict(color=\"red\", size=10)),\n",
        "              go.Scatter3d(x=xx, y=yy,z=zz, name='Path',\n",
        "                        mode=\"lines\",\n",
        "                        line=dict(color=\"blue\", width=2))],\n",
        "        layout=go.Layout(\n",
        "            scene = dict(\n",
        "                        xaxis=dict(range=axisRange[0], autorange=False),\n",
        "                        yaxis=dict(range=axisRange[1], autorange=False),\n",
        "                        zaxis=dict(range=axisRange[2], autorange=False),\n",
        "                        aspectratio=dict(x=1, y=1, z=1),\n",
        "            ),\n",
        "            title_text=figTitle, hovermode=\"closest\",\n",
        "            updatemenus=[dict(type=\"buttons\",\n",
        "                              buttons=[dict(label=\"Play\",\n",
        "                                            method=\"animate\",\n",
        "                                            args=[None])])]),\n",
        "        frames=[go.Frame(\n",
        "            data=[go.Scatter3d(\n",
        "                x=[p[0]],\n",
        "                y=[p[1]],\n",
        "                z=[p[2]],\n",
        "                name='Particle',\n",
        "                mode=\"markers\",\n",
        "                marker=dict(color=\"red\", size=10))])\n",
        "\n",
        "            for p in XX]\n",
        "    )\n",
        "\n",
        "    fig.show()\n",
        "    return fig\n",
        "\n",
        "  def anmated_cube_flat_shading(self, cubeVertices):\n",
        "    fig = go.Figure(\n",
        "        frames=[go.Frame(data=[\n",
        "          go.Mesh3d(\n",
        "            # 8 vertices of a cube\n",
        "            x=xx[0][0],\n",
        "            y=xx[0][1],\n",
        "            z=xx[0][2],\n",
        "            # i, j and k give the vertices of triangles\n",
        "            i = [7, 0, 0, 0, 4, 4, 6, 6, 4, 0, 3, 2],\n",
        "            j = [3, 4, 1, 2, 5, 6, 5, 2, 0, 1, 6, 3],\n",
        "            k = [0, 7, 2, 3, 6, 7, 1, 1, 5, 5, 7, 6],\n",
        "            name='y',\n",
        "            opacity=0.6,\n",
        "            color='#DC143C',\n",
        "            flatshading = True)]) for xx in cubeVertices])\n",
        "\n",
        "    fig.add_trace(go.Mesh3d(\n",
        "            # 8 vertices of a cube\n",
        "            x=cubeVertices[0][0][0],\n",
        "            y=cubeVertices[0][0][1],\n",
        "            z=cubeVertices[0][0][2],\n",
        "            # i, j and k give the vertices of triangles\n",
        "            i = [7, 0, 0, 0, 4, 4, 6, 6, 4, 0, 3, 2],\n",
        "            j = [3, 4, 1, 2, 5, 6, 5, 2, 0, 1, 6, 3],\n",
        "            k = [0, 7, 2, 3, 6, 7, 1, 1, 5, 5, 7, 6],\n",
        "            name='y',\n",
        "            opacity=0.6,\n",
        "            color='#DC143C',\n",
        "            flatshading = True)\n",
        "        )\n",
        "\n",
        "    fig.update_layout(\n",
        "          title='Animated Cube',\n",
        "          width=600,\n",
        "          height=600,\n",
        "          scene=dict(\n",
        "                      xaxis=dict(range=[-5., 5.], autorange=False),\n",
        "                      yaxis=dict(range=[-5., 5.], autorange=False),\n",
        "                      zaxis=dict(range=[-5., 5.], autorange=False),\n",
        "                      aspectratio=dict(x=1, y=1, z=1),\n",
        "                      ),\n",
        "          updatemenus=[dict(type=\"buttons\",\n",
        "                              buttons=[dict(label=\"Play\",\n",
        "                                            method=\"animate\",\n",
        "                                            args=[None])])])\n",
        "    len(fig.frames)\n",
        "    fig.show()\n",
        "    return fig\n"
      ],
      "execution_count": null,
      "outputs": []
    },
    {
      "cell_type": "code",
      "metadata": {
        "id": "u9V2W4x5-JDL"
      },
      "source": [
        "mr=mugas_rigid_body_functions()"
      ],
      "execution_count": null,
      "outputs": []
    },
    {
      "cell_type": "markdown",
      "source": [
        "#Q1 Plot an orthonormal frame\n"
      ],
      "metadata": {
        "id": "Q299dFoyphTq"
      }
    },
    {
      "cell_type": "markdown",
      "source": [
        "You may use the following or a similar package\n",
        "\n",
        "https://plotly.com/python/"
      ],
      "metadata": {
        "id": "8qcyXjc2egGq"
      }
    },
    {
      "cell_type": "code",
      "source": [
        "#Adding a Frame\n",
        "fig = go.Figure()\n",
        "fig=mr.addOrthNormFrame(fig,np.array([0,0,0]),np.array([[1,0,0],[0,1,0],[0,0,1]]),[[-2,2],[-2,2],[-2,2]],'blue')\n",
        "fig.show()"
      ],
      "metadata": {
        "id": "9XwanQexp2R1",
        "colab": {
          "base_uri": "https://localhost:8080/",
          "height": 542
        },
        "outputId": "372171d6-1b0b-4eae-ae42-2f9a54df058e"
      },
      "execution_count": null,
      "outputs": [
        {
          "output_type": "display_data",
          "data": {
            "text/html": [
              "<html>\n",
              "<head><meta charset=\"utf-8\" /></head>\n",
              "<body>\n",
              "    <div>            <script src=\"https://cdnjs.cloudflare.com/ajax/libs/mathjax/2.7.5/MathJax.js?config=TeX-AMS-MML_SVG\"></script><script type=\"text/javascript\">if (window.MathJax) {MathJax.Hub.Config({SVG: {font: \"STIX-Web\"}});}</script>                <script type=\"text/javascript\">window.PlotlyConfig = {MathJaxConfig: 'local'};</script>\n",
              "        <script src=\"https://cdn.plot.ly/plotly-2.8.3.min.js\"></script>                <div id=\"25319f52-19d8-49f6-abb8-ade220e3a3e1\" class=\"plotly-graph-div\" style=\"height:525px; width:100%;\"></div>            <script type=\"text/javascript\">                                    window.PLOTLYENV=window.PLOTLYENV || {};                                    if (document.getElementById(\"25319f52-19d8-49f6-abb8-ade220e3a3e1\")) {                    Plotly.newPlot(                        \"25319f52-19d8-49f6-abb8-ade220e3a3e1\",                        [{\"hoverinfo\":\"x+y+z\",\"line\":{\"color\":\"blue\",\"width\":8},\"mode\":\"lines\",\"x\":[\"0\",\"1\"],\"y\":[\"0\",\"0\"],\"z\":[\"0\",\"0\"],\"type\":\"scatter3d\"},{\"hoverinfo\":\"x+y+z\",\"line\":{\"color\":\"blue\",\"width\":8},\"mode\":\"lines\",\"x\":[\"0\",\"0\"],\"y\":[\"0\",\"1\"],\"z\":[\"0\",\"0\"],\"type\":\"scatter3d\"},{\"hoverinfo\":\"x+y+z\",\"line\":{\"color\":\"blue\",\"width\":8},\"mode\":\"lines\",\"x\":[\"0\",\"0\"],\"y\":[\"0\",\"0\"],\"z\":[\"0\",\"1\"],\"type\":\"scatter3d\"}],                        {\"template\":{\"data\":{\"bar\":[{\"error_x\":{\"color\":\"#2a3f5f\"},\"error_y\":{\"color\":\"#2a3f5f\"},\"marker\":{\"line\":{\"color\":\"#E5ECF6\",\"width\":0.5},\"pattern\":{\"fillmode\":\"overlay\",\"size\":10,\"solidity\":0.2}},\"type\":\"bar\"}],\"barpolar\":[{\"marker\":{\"line\":{\"color\":\"#E5ECF6\",\"width\":0.5},\"pattern\":{\"fillmode\":\"overlay\",\"size\":10,\"solidity\":0.2}},\"type\":\"barpolar\"}],\"carpet\":[{\"aaxis\":{\"endlinecolor\":\"#2a3f5f\",\"gridcolor\":\"white\",\"linecolor\":\"white\",\"minorgridcolor\":\"white\",\"startlinecolor\":\"#2a3f5f\"},\"baxis\":{\"endlinecolor\":\"#2a3f5f\",\"gridcolor\":\"white\",\"linecolor\":\"white\",\"minorgridcolor\":\"white\",\"startlinecolor\":\"#2a3f5f\"},\"type\":\"carpet\"}],\"choropleth\":[{\"colorbar\":{\"outlinewidth\":0,\"ticks\":\"\"},\"type\":\"choropleth\"}],\"contour\":[{\"colorbar\":{\"outlinewidth\":0,\"ticks\":\"\"},\"colorscale\":[[0.0,\"#0d0887\"],[0.1111111111111111,\"#46039f\"],[0.2222222222222222,\"#7201a8\"],[0.3333333333333333,\"#9c179e\"],[0.4444444444444444,\"#bd3786\"],[0.5555555555555556,\"#d8576b\"],[0.6666666666666666,\"#ed7953\"],[0.7777777777777778,\"#fb9f3a\"],[0.8888888888888888,\"#fdca26\"],[1.0,\"#f0f921\"]],\"type\":\"contour\"}],\"contourcarpet\":[{\"colorbar\":{\"outlinewidth\":0,\"ticks\":\"\"},\"type\":\"contourcarpet\"}],\"heatmap\":[{\"colorbar\":{\"outlinewidth\":0,\"ticks\":\"\"},\"colorscale\":[[0.0,\"#0d0887\"],[0.1111111111111111,\"#46039f\"],[0.2222222222222222,\"#7201a8\"],[0.3333333333333333,\"#9c179e\"],[0.4444444444444444,\"#bd3786\"],[0.5555555555555556,\"#d8576b\"],[0.6666666666666666,\"#ed7953\"],[0.7777777777777778,\"#fb9f3a\"],[0.8888888888888888,\"#fdca26\"],[1.0,\"#f0f921\"]],\"type\":\"heatmap\"}],\"heatmapgl\":[{\"colorbar\":{\"outlinewidth\":0,\"ticks\":\"\"},\"colorscale\":[[0.0,\"#0d0887\"],[0.1111111111111111,\"#46039f\"],[0.2222222222222222,\"#7201a8\"],[0.3333333333333333,\"#9c179e\"],[0.4444444444444444,\"#bd3786\"],[0.5555555555555556,\"#d8576b\"],[0.6666666666666666,\"#ed7953\"],[0.7777777777777778,\"#fb9f3a\"],[0.8888888888888888,\"#fdca26\"],[1.0,\"#f0f921\"]],\"type\":\"heatmapgl\"}],\"histogram\":[{\"marker\":{\"pattern\":{\"fillmode\":\"overlay\",\"size\":10,\"solidity\":0.2}},\"type\":\"histogram\"}],\"histogram2d\":[{\"colorbar\":{\"outlinewidth\":0,\"ticks\":\"\"},\"colorscale\":[[0.0,\"#0d0887\"],[0.1111111111111111,\"#46039f\"],[0.2222222222222222,\"#7201a8\"],[0.3333333333333333,\"#9c179e\"],[0.4444444444444444,\"#bd3786\"],[0.5555555555555556,\"#d8576b\"],[0.6666666666666666,\"#ed7953\"],[0.7777777777777778,\"#fb9f3a\"],[0.8888888888888888,\"#fdca26\"],[1.0,\"#f0f921\"]],\"type\":\"histogram2d\"}],\"histogram2dcontour\":[{\"colorbar\":{\"outlinewidth\":0,\"ticks\":\"\"},\"colorscale\":[[0.0,\"#0d0887\"],[0.1111111111111111,\"#46039f\"],[0.2222222222222222,\"#7201a8\"],[0.3333333333333333,\"#9c179e\"],[0.4444444444444444,\"#bd3786\"],[0.5555555555555556,\"#d8576b\"],[0.6666666666666666,\"#ed7953\"],[0.7777777777777778,\"#fb9f3a\"],[0.8888888888888888,\"#fdca26\"],[1.0,\"#f0f921\"]],\"type\":\"histogram2dcontour\"}],\"mesh3d\":[{\"colorbar\":{\"outlinewidth\":0,\"ticks\":\"\"},\"type\":\"mesh3d\"}],\"parcoords\":[{\"line\":{\"colorbar\":{\"outlinewidth\":0,\"ticks\":\"\"}},\"type\":\"parcoords\"}],\"pie\":[{\"automargin\":true,\"type\":\"pie\"}],\"scatter\":[{\"marker\":{\"colorbar\":{\"outlinewidth\":0,\"ticks\":\"\"}},\"type\":\"scatter\"}],\"scatter3d\":[{\"line\":{\"colorbar\":{\"outlinewidth\":0,\"ticks\":\"\"}},\"marker\":{\"colorbar\":{\"outlinewidth\":0,\"ticks\":\"\"}},\"type\":\"scatter3d\"}],\"scattercarpet\":[{\"marker\":{\"colorbar\":{\"outlinewidth\":0,\"ticks\":\"\"}},\"type\":\"scattercarpet\"}],\"scattergeo\":[{\"marker\":{\"colorbar\":{\"outlinewidth\":0,\"ticks\":\"\"}},\"type\":\"scattergeo\"}],\"scattergl\":[{\"marker\":{\"colorbar\":{\"outlinewidth\":0,\"ticks\":\"\"}},\"type\":\"scattergl\"}],\"scattermapbox\":[{\"marker\":{\"colorbar\":{\"outlinewidth\":0,\"ticks\":\"\"}},\"type\":\"scattermapbox\"}],\"scatterpolar\":[{\"marker\":{\"colorbar\":{\"outlinewidth\":0,\"ticks\":\"\"}},\"type\":\"scatterpolar\"}],\"scatterpolargl\":[{\"marker\":{\"colorbar\":{\"outlinewidth\":0,\"ticks\":\"\"}},\"type\":\"scatterpolargl\"}],\"scatterternary\":[{\"marker\":{\"colorbar\":{\"outlinewidth\":0,\"ticks\":\"\"}},\"type\":\"scatterternary\"}],\"surface\":[{\"colorbar\":{\"outlinewidth\":0,\"ticks\":\"\"},\"colorscale\":[[0.0,\"#0d0887\"],[0.1111111111111111,\"#46039f\"],[0.2222222222222222,\"#7201a8\"],[0.3333333333333333,\"#9c179e\"],[0.4444444444444444,\"#bd3786\"],[0.5555555555555556,\"#d8576b\"],[0.6666666666666666,\"#ed7953\"],[0.7777777777777778,\"#fb9f3a\"],[0.8888888888888888,\"#fdca26\"],[1.0,\"#f0f921\"]],\"type\":\"surface\"}],\"table\":[{\"cells\":{\"fill\":{\"color\":\"#EBF0F8\"},\"line\":{\"color\":\"white\"}},\"header\":{\"fill\":{\"color\":\"#C8D4E3\"},\"line\":{\"color\":\"white\"}},\"type\":\"table\"}]},\"layout\":{\"annotationdefaults\":{\"arrowcolor\":\"#2a3f5f\",\"arrowhead\":0,\"arrowwidth\":1},\"autotypenumbers\":\"strict\",\"coloraxis\":{\"colorbar\":{\"outlinewidth\":0,\"ticks\":\"\"}},\"colorscale\":{\"diverging\":[[0,\"#8e0152\"],[0.1,\"#c51b7d\"],[0.2,\"#de77ae\"],[0.3,\"#f1b6da\"],[0.4,\"#fde0ef\"],[0.5,\"#f7f7f7\"],[0.6,\"#e6f5d0\"],[0.7,\"#b8e186\"],[0.8,\"#7fbc41\"],[0.9,\"#4d9221\"],[1,\"#276419\"]],\"sequential\":[[0.0,\"#0d0887\"],[0.1111111111111111,\"#46039f\"],[0.2222222222222222,\"#7201a8\"],[0.3333333333333333,\"#9c179e\"],[0.4444444444444444,\"#bd3786\"],[0.5555555555555556,\"#d8576b\"],[0.6666666666666666,\"#ed7953\"],[0.7777777777777778,\"#fb9f3a\"],[0.8888888888888888,\"#fdca26\"],[1.0,\"#f0f921\"]],\"sequentialminus\":[[0.0,\"#0d0887\"],[0.1111111111111111,\"#46039f\"],[0.2222222222222222,\"#7201a8\"],[0.3333333333333333,\"#9c179e\"],[0.4444444444444444,\"#bd3786\"],[0.5555555555555556,\"#d8576b\"],[0.6666666666666666,\"#ed7953\"],[0.7777777777777778,\"#fb9f3a\"],[0.8888888888888888,\"#fdca26\"],[1.0,\"#f0f921\"]]},\"colorway\":[\"#636efa\",\"#EF553B\",\"#00cc96\",\"#ab63fa\",\"#FFA15A\",\"#19d3f3\",\"#FF6692\",\"#B6E880\",\"#FF97FF\",\"#FECB52\"],\"font\":{\"color\":\"#2a3f5f\"},\"geo\":{\"bgcolor\":\"white\",\"lakecolor\":\"white\",\"landcolor\":\"#E5ECF6\",\"showlakes\":true,\"showland\":true,\"subunitcolor\":\"white\"},\"hoverlabel\":{\"align\":\"left\"},\"hovermode\":\"closest\",\"mapbox\":{\"style\":\"light\"},\"paper_bgcolor\":\"white\",\"plot_bgcolor\":\"#E5ECF6\",\"polar\":{\"angularaxis\":{\"gridcolor\":\"white\",\"linecolor\":\"white\",\"ticks\":\"\"},\"bgcolor\":\"#E5ECF6\",\"radialaxis\":{\"gridcolor\":\"white\",\"linecolor\":\"white\",\"ticks\":\"\"}},\"scene\":{\"xaxis\":{\"backgroundcolor\":\"#E5ECF6\",\"gridcolor\":\"white\",\"gridwidth\":2,\"linecolor\":\"white\",\"showbackground\":true,\"ticks\":\"\",\"zerolinecolor\":\"white\"},\"yaxis\":{\"backgroundcolor\":\"#E5ECF6\",\"gridcolor\":\"white\",\"gridwidth\":2,\"linecolor\":\"white\",\"showbackground\":true,\"ticks\":\"\",\"zerolinecolor\":\"white\"},\"zaxis\":{\"backgroundcolor\":\"#E5ECF6\",\"gridcolor\":\"white\",\"gridwidth\":2,\"linecolor\":\"white\",\"showbackground\":true,\"ticks\":\"\",\"zerolinecolor\":\"white\"}},\"shapedefaults\":{\"line\":{\"color\":\"#2a3f5f\"}},\"ternary\":{\"aaxis\":{\"gridcolor\":\"white\",\"linecolor\":\"white\",\"ticks\":\"\"},\"baxis\":{\"gridcolor\":\"white\",\"linecolor\":\"white\",\"ticks\":\"\"},\"bgcolor\":\"#E5ECF6\",\"caxis\":{\"gridcolor\":\"white\",\"linecolor\":\"white\",\"ticks\":\"\"}},\"title\":{\"x\":0.05},\"xaxis\":{\"automargin\":true,\"gridcolor\":\"white\",\"linecolor\":\"white\",\"ticks\":\"\",\"title\":{\"standoff\":15},\"zerolinecolor\":\"white\",\"zerolinewidth\":2},\"yaxis\":{\"automargin\":true,\"gridcolor\":\"white\",\"linecolor\":\"white\",\"ticks\":\"\",\"title\":{\"standoff\":15},\"zerolinecolor\":\"white\",\"zerolinewidth\":2}}},\"scene\":{\"xaxis\":{\"range\":[-2,2],\"autorange\":false},\"yaxis\":{\"range\":[-2,2],\"autorange\":false},\"zaxis\":{\"range\":[-2,2],\"autorange\":false},\"aspectratio\":{\"x\":1,\"y\":1,\"z\":1}},\"showlegend\":false},                        {\"responsive\": true}                    ).then(function(){\n",
              "                            \n",
              "var gd = document.getElementById('25319f52-19d8-49f6-abb8-ade220e3a3e1');\n",
              "var x = new MutationObserver(function (mutations, observer) {{\n",
              "        var display = window.getComputedStyle(gd).display;\n",
              "        if (!display || display === 'none') {{\n",
              "            console.log([gd, 'removed!']);\n",
              "            Plotly.purge(gd);\n",
              "            observer.disconnect();\n",
              "        }}\n",
              "}});\n",
              "\n",
              "// Listen for the removal of the full notebook cells\n",
              "var notebookContainer = gd.closest('#notebook-container');\n",
              "if (notebookContainer) {{\n",
              "    x.observe(notebookContainer, {childList: true});\n",
              "}}\n",
              "\n",
              "// Listen for the clearing of the current output cell\n",
              "var outputEl = gd.closest('.output');\n",
              "if (outputEl) {{\n",
              "    x.observe(outputEl, {childList: true});\n",
              "}}\n",
              "\n",
              "                        })                };                            </script>        </div>\n",
              "</body>\n",
              "</html>"
            ]
          },
          "metadata": {}
        }
      ]
    },
    {
      "cell_type": "markdown",
      "metadata": {
        "id": "NR_nS8_Mvs6P"
      },
      "source": [
        "# Q2 - A point $P$ in space has the Euclidean representations $P\\equiv (1,1,1)$ with respect to some inertial frame $\\mathbf{e}$ with origin coinciding with a point $O$ in space. Find the angle that $OP$ makes with the plane spanned by the $\\mathbf{e}_1$, $\\mathbf{e}_2$ directions. Verify your answer and using plotly plot an orthonormal frame and the point $P$ in that frame.\n"
      ]
    },
    {
      "cell_type": "code",
      "metadata": {
        "colab": {
          "base_uri": "https://localhost:8080/"
        },
        "id": "WiYUOGFO-6Ar",
        "outputId": "06a60e13-b23e-486f-b8cd-6c585e4ab799"
      },
      "source": [
        "P=[1,1,1]; Q=[1,1,0]; O=[0,0,0];\n",
        "PQ=np.array(P)-np.array(Q)\n",
        "lengthPQ=linalg.norm(PQ)\n",
        "anglePQ=np.arccos(np.array(P).dot(np.array(Q))/(linalg.norm(P)*linalg.norm(Q)))\n",
        "print(['length='+str(lengthPQ), 'angle='+str(180*anglePQ/np.pi)])"
      ],
      "execution_count": null,
      "outputs": [
        {
          "output_type": "stream",
          "name": "stdout",
          "text": [
            "['length=1.0', 'angle=35.26438968275467']\n"
          ]
        }
      ]
    },
    {
      "cell_type": "code",
      "metadata": {
        "id": "kK7XiSdH_YNB",
        "colab": {
          "base_uri": "https://localhost:8080/",
          "height": 542
        },
        "outputId": "39bb8350-2275-4d0b-a3b7-d70b6789dabd"
      },
      "source": [
        "#Adding a Frame\n",
        "fig = go.Figure()\n",
        "fig=mr.addOrthNormFrame(fig,O,np.array([[1,0,0],[0,1,0],[0,0,1]]),[[-2,2],[-2,2],[-2,2]],'blue')\n",
        "fig.show()"
      ],
      "execution_count": null,
      "outputs": [
        {
          "output_type": "display_data",
          "data": {
            "text/html": [
              "<html>\n",
              "<head><meta charset=\"utf-8\" /></head>\n",
              "<body>\n",
              "    <div>            <script src=\"https://cdnjs.cloudflare.com/ajax/libs/mathjax/2.7.5/MathJax.js?config=TeX-AMS-MML_SVG\"></script><script type=\"text/javascript\">if (window.MathJax) {MathJax.Hub.Config({SVG: {font: \"STIX-Web\"}});}</script>                <script type=\"text/javascript\">window.PlotlyConfig = {MathJaxConfig: 'local'};</script>\n",
              "        <script src=\"https://cdn.plot.ly/plotly-2.8.3.min.js\"></script>                <div id=\"12ad7b1c-8864-4a54-8f25-cfebafd8a8d6\" class=\"plotly-graph-div\" style=\"height:525px; width:100%;\"></div>            <script type=\"text/javascript\">                                    window.PLOTLYENV=window.PLOTLYENV || {};                                    if (document.getElementById(\"12ad7b1c-8864-4a54-8f25-cfebafd8a8d6\")) {                    Plotly.newPlot(                        \"12ad7b1c-8864-4a54-8f25-cfebafd8a8d6\",                        [{\"hoverinfo\":\"x+y+z\",\"line\":{\"color\":\"blue\",\"width\":8},\"mode\":\"lines\",\"x\":[\"0\",\"1\"],\"y\":[\"0\",\"0\"],\"z\":[\"0\",\"0\"],\"type\":\"scatter3d\"},{\"hoverinfo\":\"x+y+z\",\"line\":{\"color\":\"blue\",\"width\":8},\"mode\":\"lines\",\"x\":[\"0\",\"0\"],\"y\":[\"0\",\"1\"],\"z\":[\"0\",\"0\"],\"type\":\"scatter3d\"},{\"hoverinfo\":\"x+y+z\",\"line\":{\"color\":\"blue\",\"width\":8},\"mode\":\"lines\",\"x\":[\"0\",\"0\"],\"y\":[\"0\",\"0\"],\"z\":[\"0\",\"1\"],\"type\":\"scatter3d\"}],                        {\"template\":{\"data\":{\"bar\":[{\"error_x\":{\"color\":\"#2a3f5f\"},\"error_y\":{\"color\":\"#2a3f5f\"},\"marker\":{\"line\":{\"color\":\"#E5ECF6\",\"width\":0.5},\"pattern\":{\"fillmode\":\"overlay\",\"size\":10,\"solidity\":0.2}},\"type\":\"bar\"}],\"barpolar\":[{\"marker\":{\"line\":{\"color\":\"#E5ECF6\",\"width\":0.5},\"pattern\":{\"fillmode\":\"overlay\",\"size\":10,\"solidity\":0.2}},\"type\":\"barpolar\"}],\"carpet\":[{\"aaxis\":{\"endlinecolor\":\"#2a3f5f\",\"gridcolor\":\"white\",\"linecolor\":\"white\",\"minorgridcolor\":\"white\",\"startlinecolor\":\"#2a3f5f\"},\"baxis\":{\"endlinecolor\":\"#2a3f5f\",\"gridcolor\":\"white\",\"linecolor\":\"white\",\"minorgridcolor\":\"white\",\"startlinecolor\":\"#2a3f5f\"},\"type\":\"carpet\"}],\"choropleth\":[{\"colorbar\":{\"outlinewidth\":0,\"ticks\":\"\"},\"type\":\"choropleth\"}],\"contour\":[{\"colorbar\":{\"outlinewidth\":0,\"ticks\":\"\"},\"colorscale\":[[0.0,\"#0d0887\"],[0.1111111111111111,\"#46039f\"],[0.2222222222222222,\"#7201a8\"],[0.3333333333333333,\"#9c179e\"],[0.4444444444444444,\"#bd3786\"],[0.5555555555555556,\"#d8576b\"],[0.6666666666666666,\"#ed7953\"],[0.7777777777777778,\"#fb9f3a\"],[0.8888888888888888,\"#fdca26\"],[1.0,\"#f0f921\"]],\"type\":\"contour\"}],\"contourcarpet\":[{\"colorbar\":{\"outlinewidth\":0,\"ticks\":\"\"},\"type\":\"contourcarpet\"}],\"heatmap\":[{\"colorbar\":{\"outlinewidth\":0,\"ticks\":\"\"},\"colorscale\":[[0.0,\"#0d0887\"],[0.1111111111111111,\"#46039f\"],[0.2222222222222222,\"#7201a8\"],[0.3333333333333333,\"#9c179e\"],[0.4444444444444444,\"#bd3786\"],[0.5555555555555556,\"#d8576b\"],[0.6666666666666666,\"#ed7953\"],[0.7777777777777778,\"#fb9f3a\"],[0.8888888888888888,\"#fdca26\"],[1.0,\"#f0f921\"]],\"type\":\"heatmap\"}],\"heatmapgl\":[{\"colorbar\":{\"outlinewidth\":0,\"ticks\":\"\"},\"colorscale\":[[0.0,\"#0d0887\"],[0.1111111111111111,\"#46039f\"],[0.2222222222222222,\"#7201a8\"],[0.3333333333333333,\"#9c179e\"],[0.4444444444444444,\"#bd3786\"],[0.5555555555555556,\"#d8576b\"],[0.6666666666666666,\"#ed7953\"],[0.7777777777777778,\"#fb9f3a\"],[0.8888888888888888,\"#fdca26\"],[1.0,\"#f0f921\"]],\"type\":\"heatmapgl\"}],\"histogram\":[{\"marker\":{\"pattern\":{\"fillmode\":\"overlay\",\"size\":10,\"solidity\":0.2}},\"type\":\"histogram\"}],\"histogram2d\":[{\"colorbar\":{\"outlinewidth\":0,\"ticks\":\"\"},\"colorscale\":[[0.0,\"#0d0887\"],[0.1111111111111111,\"#46039f\"],[0.2222222222222222,\"#7201a8\"],[0.3333333333333333,\"#9c179e\"],[0.4444444444444444,\"#bd3786\"],[0.5555555555555556,\"#d8576b\"],[0.6666666666666666,\"#ed7953\"],[0.7777777777777778,\"#fb9f3a\"],[0.8888888888888888,\"#fdca26\"],[1.0,\"#f0f921\"]],\"type\":\"histogram2d\"}],\"histogram2dcontour\":[{\"colorbar\":{\"outlinewidth\":0,\"ticks\":\"\"},\"colorscale\":[[0.0,\"#0d0887\"],[0.1111111111111111,\"#46039f\"],[0.2222222222222222,\"#7201a8\"],[0.3333333333333333,\"#9c179e\"],[0.4444444444444444,\"#bd3786\"],[0.5555555555555556,\"#d8576b\"],[0.6666666666666666,\"#ed7953\"],[0.7777777777777778,\"#fb9f3a\"],[0.8888888888888888,\"#fdca26\"],[1.0,\"#f0f921\"]],\"type\":\"histogram2dcontour\"}],\"mesh3d\":[{\"colorbar\":{\"outlinewidth\":0,\"ticks\":\"\"},\"type\":\"mesh3d\"}],\"parcoords\":[{\"line\":{\"colorbar\":{\"outlinewidth\":0,\"ticks\":\"\"}},\"type\":\"parcoords\"}],\"pie\":[{\"automargin\":true,\"type\":\"pie\"}],\"scatter\":[{\"marker\":{\"colorbar\":{\"outlinewidth\":0,\"ticks\":\"\"}},\"type\":\"scatter\"}],\"scatter3d\":[{\"line\":{\"colorbar\":{\"outlinewidth\":0,\"ticks\":\"\"}},\"marker\":{\"colorbar\":{\"outlinewidth\":0,\"ticks\":\"\"}},\"type\":\"scatter3d\"}],\"scattercarpet\":[{\"marker\":{\"colorbar\":{\"outlinewidth\":0,\"ticks\":\"\"}},\"type\":\"scattercarpet\"}],\"scattergeo\":[{\"marker\":{\"colorbar\":{\"outlinewidth\":0,\"ticks\":\"\"}},\"type\":\"scattergeo\"}],\"scattergl\":[{\"marker\":{\"colorbar\":{\"outlinewidth\":0,\"ticks\":\"\"}},\"type\":\"scattergl\"}],\"scattermapbox\":[{\"marker\":{\"colorbar\":{\"outlinewidth\":0,\"ticks\":\"\"}},\"type\":\"scattermapbox\"}],\"scatterpolar\":[{\"marker\":{\"colorbar\":{\"outlinewidth\":0,\"ticks\":\"\"}},\"type\":\"scatterpolar\"}],\"scatterpolargl\":[{\"marker\":{\"colorbar\":{\"outlinewidth\":0,\"ticks\":\"\"}},\"type\":\"scatterpolargl\"}],\"scatterternary\":[{\"marker\":{\"colorbar\":{\"outlinewidth\":0,\"ticks\":\"\"}},\"type\":\"scatterternary\"}],\"surface\":[{\"colorbar\":{\"outlinewidth\":0,\"ticks\":\"\"},\"colorscale\":[[0.0,\"#0d0887\"],[0.1111111111111111,\"#46039f\"],[0.2222222222222222,\"#7201a8\"],[0.3333333333333333,\"#9c179e\"],[0.4444444444444444,\"#bd3786\"],[0.5555555555555556,\"#d8576b\"],[0.6666666666666666,\"#ed7953\"],[0.7777777777777778,\"#fb9f3a\"],[0.8888888888888888,\"#fdca26\"],[1.0,\"#f0f921\"]],\"type\":\"surface\"}],\"table\":[{\"cells\":{\"fill\":{\"color\":\"#EBF0F8\"},\"line\":{\"color\":\"white\"}},\"header\":{\"fill\":{\"color\":\"#C8D4E3\"},\"line\":{\"color\":\"white\"}},\"type\":\"table\"}]},\"layout\":{\"annotationdefaults\":{\"arrowcolor\":\"#2a3f5f\",\"arrowhead\":0,\"arrowwidth\":1},\"autotypenumbers\":\"strict\",\"coloraxis\":{\"colorbar\":{\"outlinewidth\":0,\"ticks\":\"\"}},\"colorscale\":{\"diverging\":[[0,\"#8e0152\"],[0.1,\"#c51b7d\"],[0.2,\"#de77ae\"],[0.3,\"#f1b6da\"],[0.4,\"#fde0ef\"],[0.5,\"#f7f7f7\"],[0.6,\"#e6f5d0\"],[0.7,\"#b8e186\"],[0.8,\"#7fbc41\"],[0.9,\"#4d9221\"],[1,\"#276419\"]],\"sequential\":[[0.0,\"#0d0887\"],[0.1111111111111111,\"#46039f\"],[0.2222222222222222,\"#7201a8\"],[0.3333333333333333,\"#9c179e\"],[0.4444444444444444,\"#bd3786\"],[0.5555555555555556,\"#d8576b\"],[0.6666666666666666,\"#ed7953\"],[0.7777777777777778,\"#fb9f3a\"],[0.8888888888888888,\"#fdca26\"],[1.0,\"#f0f921\"]],\"sequentialminus\":[[0.0,\"#0d0887\"],[0.1111111111111111,\"#46039f\"],[0.2222222222222222,\"#7201a8\"],[0.3333333333333333,\"#9c179e\"],[0.4444444444444444,\"#bd3786\"],[0.5555555555555556,\"#d8576b\"],[0.6666666666666666,\"#ed7953\"],[0.7777777777777778,\"#fb9f3a\"],[0.8888888888888888,\"#fdca26\"],[1.0,\"#f0f921\"]]},\"colorway\":[\"#636efa\",\"#EF553B\",\"#00cc96\",\"#ab63fa\",\"#FFA15A\",\"#19d3f3\",\"#FF6692\",\"#B6E880\",\"#FF97FF\",\"#FECB52\"],\"font\":{\"color\":\"#2a3f5f\"},\"geo\":{\"bgcolor\":\"white\",\"lakecolor\":\"white\",\"landcolor\":\"#E5ECF6\",\"showlakes\":true,\"showland\":true,\"subunitcolor\":\"white\"},\"hoverlabel\":{\"align\":\"left\"},\"hovermode\":\"closest\",\"mapbox\":{\"style\":\"light\"},\"paper_bgcolor\":\"white\",\"plot_bgcolor\":\"#E5ECF6\",\"polar\":{\"angularaxis\":{\"gridcolor\":\"white\",\"linecolor\":\"white\",\"ticks\":\"\"},\"bgcolor\":\"#E5ECF6\",\"radialaxis\":{\"gridcolor\":\"white\",\"linecolor\":\"white\",\"ticks\":\"\"}},\"scene\":{\"xaxis\":{\"backgroundcolor\":\"#E5ECF6\",\"gridcolor\":\"white\",\"gridwidth\":2,\"linecolor\":\"white\",\"showbackground\":true,\"ticks\":\"\",\"zerolinecolor\":\"white\"},\"yaxis\":{\"backgroundcolor\":\"#E5ECF6\",\"gridcolor\":\"white\",\"gridwidth\":2,\"linecolor\":\"white\",\"showbackground\":true,\"ticks\":\"\",\"zerolinecolor\":\"white\"},\"zaxis\":{\"backgroundcolor\":\"#E5ECF6\",\"gridcolor\":\"white\",\"gridwidth\":2,\"linecolor\":\"white\",\"showbackground\":true,\"ticks\":\"\",\"zerolinecolor\":\"white\"}},\"shapedefaults\":{\"line\":{\"color\":\"#2a3f5f\"}},\"ternary\":{\"aaxis\":{\"gridcolor\":\"white\",\"linecolor\":\"white\",\"ticks\":\"\"},\"baxis\":{\"gridcolor\":\"white\",\"linecolor\":\"white\",\"ticks\":\"\"},\"bgcolor\":\"#E5ECF6\",\"caxis\":{\"gridcolor\":\"white\",\"linecolor\":\"white\",\"ticks\":\"\"}},\"title\":{\"x\":0.05},\"xaxis\":{\"automargin\":true,\"gridcolor\":\"white\",\"linecolor\":\"white\",\"ticks\":\"\",\"title\":{\"standoff\":15},\"zerolinecolor\":\"white\",\"zerolinewidth\":2},\"yaxis\":{\"automargin\":true,\"gridcolor\":\"white\",\"linecolor\":\"white\",\"ticks\":\"\",\"title\":{\"standoff\":15},\"zerolinecolor\":\"white\",\"zerolinewidth\":2}}},\"scene\":{\"xaxis\":{\"range\":[-2,2],\"autorange\":false},\"yaxis\":{\"range\":[-2,2],\"autorange\":false},\"zaxis\":{\"range\":[-2,2],\"autorange\":false},\"aspectratio\":{\"x\":1,\"y\":1,\"z\":1}},\"showlegend\":false},                        {\"responsive\": true}                    ).then(function(){\n",
              "                            \n",
              "var gd = document.getElementById('12ad7b1c-8864-4a54-8f25-cfebafd8a8d6');\n",
              "var x = new MutationObserver(function (mutations, observer) {{\n",
              "        var display = window.getComputedStyle(gd).display;\n",
              "        if (!display || display === 'none') {{\n",
              "            console.log([gd, 'removed!']);\n",
              "            Plotly.purge(gd);\n",
              "            observer.disconnect();\n",
              "        }}\n",
              "}});\n",
              "\n",
              "// Listen for the removal of the full notebook cells\n",
              "var notebookContainer = gd.closest('#notebook-container');\n",
              "if (notebookContainer) {{\n",
              "    x.observe(notebookContainer, {childList: true});\n",
              "}}\n",
              "\n",
              "// Listen for the clearing of the current output cell\n",
              "var outputEl = gd.closest('.output');\n",
              "if (outputEl) {{\n",
              "    x.observe(outputEl, {childList: true});\n",
              "}}\n",
              "\n",
              "                        })                };                            </script>        </div>\n",
              "</body>\n",
              "</html>"
            ]
          },
          "metadata": {}
        }
      ]
    },
    {
      "cell_type": "code",
      "metadata": {
        "id": "LGShI_9F_aay",
        "colab": {
          "base_uri": "https://localhost:8080/",
          "height": 542
        },
        "outputId": "7eb9ed86-3f01-433a-e1a1-ed4c39f8e976"
      },
      "source": [
        "#Adding the Points\n",
        "fig.add_trace(go.Scatter3d(x=[O[0],P[0]], y=[O[1],P[1]], z=[O[2],P[2]], hoverinfo='x+y+z', mode='lines', line=dict(width=8)))\n",
        "fig.add_trace(go.Scatter3d(x=[O[0],Q[0]], y=[O[1],Q[1]], z=[O[2],Q[2]], hoverinfo='x+y+z', mode='lines', line=dict(width=8)))"
      ],
      "execution_count": null,
      "outputs": [
        {
          "output_type": "display_data",
          "data": {
            "text/html": [
              "<html>\n",
              "<head><meta charset=\"utf-8\" /></head>\n",
              "<body>\n",
              "    <div>            <script src=\"https://cdnjs.cloudflare.com/ajax/libs/mathjax/2.7.5/MathJax.js?config=TeX-AMS-MML_SVG\"></script><script type=\"text/javascript\">if (window.MathJax) {MathJax.Hub.Config({SVG: {font: \"STIX-Web\"}});}</script>                <script type=\"text/javascript\">window.PlotlyConfig = {MathJaxConfig: 'local'};</script>\n",
              "        <script src=\"https://cdn.plot.ly/plotly-2.8.3.min.js\"></script>                <div id=\"18e573f7-96c6-44ff-8710-6823e542f778\" class=\"plotly-graph-div\" style=\"height:525px; width:100%;\"></div>            <script type=\"text/javascript\">                                    window.PLOTLYENV=window.PLOTLYENV || {};                                    if (document.getElementById(\"18e573f7-96c6-44ff-8710-6823e542f778\")) {                    Plotly.newPlot(                        \"18e573f7-96c6-44ff-8710-6823e542f778\",                        [{\"hoverinfo\":\"x+y+z\",\"line\":{\"color\":\"blue\",\"width\":8},\"mode\":\"lines\",\"x\":[\"0\",\"1\"],\"y\":[\"0\",\"0\"],\"z\":[\"0\",\"0\"],\"type\":\"scatter3d\"},{\"hoverinfo\":\"x+y+z\",\"line\":{\"color\":\"blue\",\"width\":8},\"mode\":\"lines\",\"x\":[\"0\",\"0\"],\"y\":[\"0\",\"1\"],\"z\":[\"0\",\"0\"],\"type\":\"scatter3d\"},{\"hoverinfo\":\"x+y+z\",\"line\":{\"color\":\"blue\",\"width\":8},\"mode\":\"lines\",\"x\":[\"0\",\"0\"],\"y\":[\"0\",\"0\"],\"z\":[\"0\",\"1\"],\"type\":\"scatter3d\"},{\"hoverinfo\":\"x+y+z\",\"line\":{\"width\":8},\"mode\":\"lines\",\"x\":[0,1],\"y\":[0,1],\"z\":[0,1],\"type\":\"scatter3d\"},{\"hoverinfo\":\"x+y+z\",\"line\":{\"width\":8},\"mode\":\"lines\",\"x\":[0,1],\"y\":[0,1],\"z\":[0,0],\"type\":\"scatter3d\"}],                        {\"template\":{\"data\":{\"bar\":[{\"error_x\":{\"color\":\"#2a3f5f\"},\"error_y\":{\"color\":\"#2a3f5f\"},\"marker\":{\"line\":{\"color\":\"#E5ECF6\",\"width\":0.5},\"pattern\":{\"fillmode\":\"overlay\",\"size\":10,\"solidity\":0.2}},\"type\":\"bar\"}],\"barpolar\":[{\"marker\":{\"line\":{\"color\":\"#E5ECF6\",\"width\":0.5},\"pattern\":{\"fillmode\":\"overlay\",\"size\":10,\"solidity\":0.2}},\"type\":\"barpolar\"}],\"carpet\":[{\"aaxis\":{\"endlinecolor\":\"#2a3f5f\",\"gridcolor\":\"white\",\"linecolor\":\"white\",\"minorgridcolor\":\"white\",\"startlinecolor\":\"#2a3f5f\"},\"baxis\":{\"endlinecolor\":\"#2a3f5f\",\"gridcolor\":\"white\",\"linecolor\":\"white\",\"minorgridcolor\":\"white\",\"startlinecolor\":\"#2a3f5f\"},\"type\":\"carpet\"}],\"choropleth\":[{\"colorbar\":{\"outlinewidth\":0,\"ticks\":\"\"},\"type\":\"choropleth\"}],\"contour\":[{\"colorbar\":{\"outlinewidth\":0,\"ticks\":\"\"},\"colorscale\":[[0.0,\"#0d0887\"],[0.1111111111111111,\"#46039f\"],[0.2222222222222222,\"#7201a8\"],[0.3333333333333333,\"#9c179e\"],[0.4444444444444444,\"#bd3786\"],[0.5555555555555556,\"#d8576b\"],[0.6666666666666666,\"#ed7953\"],[0.7777777777777778,\"#fb9f3a\"],[0.8888888888888888,\"#fdca26\"],[1.0,\"#f0f921\"]],\"type\":\"contour\"}],\"contourcarpet\":[{\"colorbar\":{\"outlinewidth\":0,\"ticks\":\"\"},\"type\":\"contourcarpet\"}],\"heatmap\":[{\"colorbar\":{\"outlinewidth\":0,\"ticks\":\"\"},\"colorscale\":[[0.0,\"#0d0887\"],[0.1111111111111111,\"#46039f\"],[0.2222222222222222,\"#7201a8\"],[0.3333333333333333,\"#9c179e\"],[0.4444444444444444,\"#bd3786\"],[0.5555555555555556,\"#d8576b\"],[0.6666666666666666,\"#ed7953\"],[0.7777777777777778,\"#fb9f3a\"],[0.8888888888888888,\"#fdca26\"],[1.0,\"#f0f921\"]],\"type\":\"heatmap\"}],\"heatmapgl\":[{\"colorbar\":{\"outlinewidth\":0,\"ticks\":\"\"},\"colorscale\":[[0.0,\"#0d0887\"],[0.1111111111111111,\"#46039f\"],[0.2222222222222222,\"#7201a8\"],[0.3333333333333333,\"#9c179e\"],[0.4444444444444444,\"#bd3786\"],[0.5555555555555556,\"#d8576b\"],[0.6666666666666666,\"#ed7953\"],[0.7777777777777778,\"#fb9f3a\"],[0.8888888888888888,\"#fdca26\"],[1.0,\"#f0f921\"]],\"type\":\"heatmapgl\"}],\"histogram\":[{\"marker\":{\"pattern\":{\"fillmode\":\"overlay\",\"size\":10,\"solidity\":0.2}},\"type\":\"histogram\"}],\"histogram2d\":[{\"colorbar\":{\"outlinewidth\":0,\"ticks\":\"\"},\"colorscale\":[[0.0,\"#0d0887\"],[0.1111111111111111,\"#46039f\"],[0.2222222222222222,\"#7201a8\"],[0.3333333333333333,\"#9c179e\"],[0.4444444444444444,\"#bd3786\"],[0.5555555555555556,\"#d8576b\"],[0.6666666666666666,\"#ed7953\"],[0.7777777777777778,\"#fb9f3a\"],[0.8888888888888888,\"#fdca26\"],[1.0,\"#f0f921\"]],\"type\":\"histogram2d\"}],\"histogram2dcontour\":[{\"colorbar\":{\"outlinewidth\":0,\"ticks\":\"\"},\"colorscale\":[[0.0,\"#0d0887\"],[0.1111111111111111,\"#46039f\"],[0.2222222222222222,\"#7201a8\"],[0.3333333333333333,\"#9c179e\"],[0.4444444444444444,\"#bd3786\"],[0.5555555555555556,\"#d8576b\"],[0.6666666666666666,\"#ed7953\"],[0.7777777777777778,\"#fb9f3a\"],[0.8888888888888888,\"#fdca26\"],[1.0,\"#f0f921\"]],\"type\":\"histogram2dcontour\"}],\"mesh3d\":[{\"colorbar\":{\"outlinewidth\":0,\"ticks\":\"\"},\"type\":\"mesh3d\"}],\"parcoords\":[{\"line\":{\"colorbar\":{\"outlinewidth\":0,\"ticks\":\"\"}},\"type\":\"parcoords\"}],\"pie\":[{\"automargin\":true,\"type\":\"pie\"}],\"scatter\":[{\"marker\":{\"colorbar\":{\"outlinewidth\":0,\"ticks\":\"\"}},\"type\":\"scatter\"}],\"scatter3d\":[{\"line\":{\"colorbar\":{\"outlinewidth\":0,\"ticks\":\"\"}},\"marker\":{\"colorbar\":{\"outlinewidth\":0,\"ticks\":\"\"}},\"type\":\"scatter3d\"}],\"scattercarpet\":[{\"marker\":{\"colorbar\":{\"outlinewidth\":0,\"ticks\":\"\"}},\"type\":\"scattercarpet\"}],\"scattergeo\":[{\"marker\":{\"colorbar\":{\"outlinewidth\":0,\"ticks\":\"\"}},\"type\":\"scattergeo\"}],\"scattergl\":[{\"marker\":{\"colorbar\":{\"outlinewidth\":0,\"ticks\":\"\"}},\"type\":\"scattergl\"}],\"scattermapbox\":[{\"marker\":{\"colorbar\":{\"outlinewidth\":0,\"ticks\":\"\"}},\"type\":\"scattermapbox\"}],\"scatterpolar\":[{\"marker\":{\"colorbar\":{\"outlinewidth\":0,\"ticks\":\"\"}},\"type\":\"scatterpolar\"}],\"scatterpolargl\":[{\"marker\":{\"colorbar\":{\"outlinewidth\":0,\"ticks\":\"\"}},\"type\":\"scatterpolargl\"}],\"scatterternary\":[{\"marker\":{\"colorbar\":{\"outlinewidth\":0,\"ticks\":\"\"}},\"type\":\"scatterternary\"}],\"surface\":[{\"colorbar\":{\"outlinewidth\":0,\"ticks\":\"\"},\"colorscale\":[[0.0,\"#0d0887\"],[0.1111111111111111,\"#46039f\"],[0.2222222222222222,\"#7201a8\"],[0.3333333333333333,\"#9c179e\"],[0.4444444444444444,\"#bd3786\"],[0.5555555555555556,\"#d8576b\"],[0.6666666666666666,\"#ed7953\"],[0.7777777777777778,\"#fb9f3a\"],[0.8888888888888888,\"#fdca26\"],[1.0,\"#f0f921\"]],\"type\":\"surface\"}],\"table\":[{\"cells\":{\"fill\":{\"color\":\"#EBF0F8\"},\"line\":{\"color\":\"white\"}},\"header\":{\"fill\":{\"color\":\"#C8D4E3\"},\"line\":{\"color\":\"white\"}},\"type\":\"table\"}]},\"layout\":{\"annotationdefaults\":{\"arrowcolor\":\"#2a3f5f\",\"arrowhead\":0,\"arrowwidth\":1},\"autotypenumbers\":\"strict\",\"coloraxis\":{\"colorbar\":{\"outlinewidth\":0,\"ticks\":\"\"}},\"colorscale\":{\"diverging\":[[0,\"#8e0152\"],[0.1,\"#c51b7d\"],[0.2,\"#de77ae\"],[0.3,\"#f1b6da\"],[0.4,\"#fde0ef\"],[0.5,\"#f7f7f7\"],[0.6,\"#e6f5d0\"],[0.7,\"#b8e186\"],[0.8,\"#7fbc41\"],[0.9,\"#4d9221\"],[1,\"#276419\"]],\"sequential\":[[0.0,\"#0d0887\"],[0.1111111111111111,\"#46039f\"],[0.2222222222222222,\"#7201a8\"],[0.3333333333333333,\"#9c179e\"],[0.4444444444444444,\"#bd3786\"],[0.5555555555555556,\"#d8576b\"],[0.6666666666666666,\"#ed7953\"],[0.7777777777777778,\"#fb9f3a\"],[0.8888888888888888,\"#fdca26\"],[1.0,\"#f0f921\"]],\"sequentialminus\":[[0.0,\"#0d0887\"],[0.1111111111111111,\"#46039f\"],[0.2222222222222222,\"#7201a8\"],[0.3333333333333333,\"#9c179e\"],[0.4444444444444444,\"#bd3786\"],[0.5555555555555556,\"#d8576b\"],[0.6666666666666666,\"#ed7953\"],[0.7777777777777778,\"#fb9f3a\"],[0.8888888888888888,\"#fdca26\"],[1.0,\"#f0f921\"]]},\"colorway\":[\"#636efa\",\"#EF553B\",\"#00cc96\",\"#ab63fa\",\"#FFA15A\",\"#19d3f3\",\"#FF6692\",\"#B6E880\",\"#FF97FF\",\"#FECB52\"],\"font\":{\"color\":\"#2a3f5f\"},\"geo\":{\"bgcolor\":\"white\",\"lakecolor\":\"white\",\"landcolor\":\"#E5ECF6\",\"showlakes\":true,\"showland\":true,\"subunitcolor\":\"white\"},\"hoverlabel\":{\"align\":\"left\"},\"hovermode\":\"closest\",\"mapbox\":{\"style\":\"light\"},\"paper_bgcolor\":\"white\",\"plot_bgcolor\":\"#E5ECF6\",\"polar\":{\"angularaxis\":{\"gridcolor\":\"white\",\"linecolor\":\"white\",\"ticks\":\"\"},\"bgcolor\":\"#E5ECF6\",\"radialaxis\":{\"gridcolor\":\"white\",\"linecolor\":\"white\",\"ticks\":\"\"}},\"scene\":{\"xaxis\":{\"backgroundcolor\":\"#E5ECF6\",\"gridcolor\":\"white\",\"gridwidth\":2,\"linecolor\":\"white\",\"showbackground\":true,\"ticks\":\"\",\"zerolinecolor\":\"white\"},\"yaxis\":{\"backgroundcolor\":\"#E5ECF6\",\"gridcolor\":\"white\",\"gridwidth\":2,\"linecolor\":\"white\",\"showbackground\":true,\"ticks\":\"\",\"zerolinecolor\":\"white\"},\"zaxis\":{\"backgroundcolor\":\"#E5ECF6\",\"gridcolor\":\"white\",\"gridwidth\":2,\"linecolor\":\"white\",\"showbackground\":true,\"ticks\":\"\",\"zerolinecolor\":\"white\"}},\"shapedefaults\":{\"line\":{\"color\":\"#2a3f5f\"}},\"ternary\":{\"aaxis\":{\"gridcolor\":\"white\",\"linecolor\":\"white\",\"ticks\":\"\"},\"baxis\":{\"gridcolor\":\"white\",\"linecolor\":\"white\",\"ticks\":\"\"},\"bgcolor\":\"#E5ECF6\",\"caxis\":{\"gridcolor\":\"white\",\"linecolor\":\"white\",\"ticks\":\"\"}},\"title\":{\"x\":0.05},\"xaxis\":{\"automargin\":true,\"gridcolor\":\"white\",\"linecolor\":\"white\",\"ticks\":\"\",\"title\":{\"standoff\":15},\"zerolinecolor\":\"white\",\"zerolinewidth\":2},\"yaxis\":{\"automargin\":true,\"gridcolor\":\"white\",\"linecolor\":\"white\",\"ticks\":\"\",\"title\":{\"standoff\":15},\"zerolinecolor\":\"white\",\"zerolinewidth\":2}}},\"scene\":{\"xaxis\":{\"range\":[-2,2],\"autorange\":false},\"yaxis\":{\"range\":[-2,2],\"autorange\":false},\"zaxis\":{\"range\":[-2,2],\"autorange\":false},\"aspectratio\":{\"x\":1,\"y\":1,\"z\":1}},\"showlegend\":false},                        {\"responsive\": true}                    ).then(function(){\n",
              "                            \n",
              "var gd = document.getElementById('18e573f7-96c6-44ff-8710-6823e542f778');\n",
              "var x = new MutationObserver(function (mutations, observer) {{\n",
              "        var display = window.getComputedStyle(gd).display;\n",
              "        if (!display || display === 'none') {{\n",
              "            console.log([gd, 'removed!']);\n",
              "            Plotly.purge(gd);\n",
              "            observer.disconnect();\n",
              "        }}\n",
              "}});\n",
              "\n",
              "// Listen for the removal of the full notebook cells\n",
              "var notebookContainer = gd.closest('#notebook-container');\n",
              "if (notebookContainer) {{\n",
              "    x.observe(notebookContainer, {childList: true});\n",
              "}}\n",
              "\n",
              "// Listen for the clearing of the current output cell\n",
              "var outputEl = gd.closest('.output');\n",
              "if (outputEl) {{\n",
              "    x.observe(outputEl, {childList: true});\n",
              "}}\n",
              "\n",
              "                        })                };                            </script>        </div>\n",
              "</body>\n",
              "</html>"
            ]
          },
          "metadata": {}
        }
      ]
    },
    {
      "cell_type": "markdown",
      "metadata": {
        "id": "jq41romZv71V"
      },
      "source": [
        "# Q3 - **(Extra Credit Question)** Let $\\mathbf{e}$ and $\\mathbf{e}'$ be two inertial observers and let $A$ be some space-time event. Let the quadruple $(t,x)\\in \\mathbb{R}^4$, where $t\\in \\mathbb{R}$ and  $x\\in \\mathbb{R}^3$, be the representation of the space-time event $A$ that corresponds to $\\mathbf{e}$ while let  $(\\tau,\\xi)\\in \\mathbb{R}^4$ where $\\tau\\in \\mathbb{R}$ and  $\\xi\\in \\mathbb{R}^3$ be the representation of the space-time event $A$ that corresponds to $\\mathbf{e}'$.\n",
        "When comparing the motion described in the two frames we need to know how the two representations (coordinates) are related to each other. Specifically we will show that inertial observers must necessarily be translating at constant velocity with respect to each other without rotations. We do this by showing the following:\n",
        "\n",
        "* The assumption that time is homogeneous and that all intervals of time are inertial observer invariant means that necessarily $\\tau=t+a$ where $a$ is a constant.\n",
        "\n",
        "* Homogeneity of space implies that necessarily  $\\xi=\\beta t+R x$ where $\\beta$ is a constant $3\\times 1$ matrix and $R$ is a constant $3\\times 3$ matrix.\n",
        "\n",
        "* The assumption that space intervals are inertial observer independent implies that $R$ is an orthonormal constant transformation (that is $R^TR=RR^T=I$).\n",
        "\n",
        "* Let $O'$ be the origin of the orthonormal frame used by $\\mathbf{e}'$ to make spatial measurements. If the space-time event $O'$ has the representation $(t,o)$ according to the observer $\\mathbf{e}$ then since $v=\\dot{o}=-R^{T}\\beta=\\mathrm{constant}$ we see that the velocity of the $\\mathbf{e}'$ frame with respect to the $\\mathbf{e}$ given by $v=\\dot{o}$ must be a constant.  If both clocks of $\\mathbf{e}$ and $\\mathbf{e}'$ are synchronized (that is $a=0$) and if a certain space-time event $A$ has the representation $(t,x)$ according to $\\mathbf{e}$ then the space-time event $A$ has the representation $(t,R(x-vt))$ according to $\\mathbf{e}'$.\n"
      ]
    },
    {
      "cell_type": "markdown",
      "metadata": {
        "id": "aiGI04sf3cYJ"
      },
      "source": [
        "## Sample Answer: The relationship between two inertial observers\n",
        "\n"
      ]
    },
    {
      "cell_type": "markdown",
      "metadata": {
        "id": "5ZcU2iAm_pUS"
      },
      "source": [
        "The construction of the orthonormal frame and the use of the clock allows an observer $\\mathbf{e}$ to assign the ordered quadruple $(t,x)\\in \\mathbb{R}^4$ where $t\\in \\mathbb{R}$ and  $x\\in \\mathbb{R}^3$ to a space-time event in a unique way. A different measurement system, $\\mathbf{e}'$ may provide a different identification  $(\\tau,\\xi)\\in \\mathbb{R}^4$ where $\\tau\\in \\mathbb{R}$ and  $\\xi\\in \\mathbb{R}^3$ for space time events.\n",
        "\n",
        "Let $A$ be some some such space-time event. Let the quadruple $(t,x)\\in \\mathbb{R}^4$ be the representation of the space-time event $A$ in $\\mathbf{e}$ while let  $(\\tau,\\xi)\\in \\mathbb{R}^4$ be the representation of the space-time event $A$ in $\\mathbf{e}'$.\n",
        "\n",
        "When comparing the motion described in the two frames we need to know how the two representations (coordinates) are related to each other. Specifically we will provide a sketch of a proof that inertial observers must necessarily be translating at constant velocity with respect to each other without rotations. We do this by showing the following:\n",
        "\n",
        "* The assumption that time is homogeneous and that all intervals of time are inertial observer invariant means that necessarily $\\tau=t+a$ where $a$ is a constant.\n",
        "\n",
        "* Homogeneity of space implies that necessarily  $\\xi=\\alpha+\\beta t+R x$ where $\\alpha,\\beta$ are constant $3\\times 1$ matrices and $R$ is a constant $3\\times 3$ matrix.\n",
        "\n",
        "* The assumption that space intervals are inertial observer independent implies that $R$ is an orthonormal constant transformation (that is $R^TR=RR^T=I$).\n",
        "\n",
        "* Since time and space are both homogeneous without loss of generality we may assume that the clocks are synchronized and origin of the two frames coincide at the time of synchronization of the clocks. This implies that $a=0$ and $\\alpha=0_{3\\times 1}$.\n",
        "\n",
        "* Let $O'$ be the origin of the orthonormal frame used by $\\mathbf{e}'$ to make spatial measurements. If the space-time event $O'$ has the representation $(t,o)$ according to the observer $\\mathbf{e}$ then since $v=\\dot{o}=-R^{T}\\beta=\\mathrm{constant}$ we see that the velocity of the $\\mathbf{e}'$ frame with respect to the $\\mathbf{e}$ given by $v=\\dot{o}$ must be a constant.  If both clocks of $\\mathbf{e}$ and $\\mathbf{e}'$ are synchronized (that is $a=0$) and if a certain space-time event $A$ has the representation $(t,x)$ according to $\\mathbf{e}$ then the space-time event $A$ has the representation $(t,R(x-vt))$ according to $\\mathbf{e}'$.\n"
      ]
    },
    {
      "cell_type": "markdown",
      "metadata": {
        "id": "haBjfMWL5XAo"
      },
      "source": [
        "####A rough justification of the above claims"
      ]
    },
    {
      "cell_type": "markdown",
      "metadata": {
        "id": "9a6Ucdxn5gNi"
      },
      "source": [
        "When comparing the motion described by the two observers we need to know how the two representations (coordinates) are related to each other.  That is we must find the functions $\\tau(t,x)$ and $\\xi(t,x)$.\n",
        "The homogeneity assumption of space-time implies that\n",
        "\\begin{align}\n",
        "\\tau(t_1+T,x_1+a)-\\tau(t_2+T,x_2+a)&=\\tau(t_1,x_1)-\\tau(t_2,x_2)\\\\\n",
        "\\xi(t_1+T,x_1+a)-\\xi(t_2+T,x_2+a)&=\\xi(t_1,x_1)-\\xi(t_2,x_2)\n",
        "\\end{align}\n",
        "for all $a, T$ and $t_1,t_2,x_1,x_2$. This necessarily implies that\n",
        "\\begin{align}\n",
        "\\tau&=a+b t+c x,\\\\\n",
        "\\xi&=\\gamma+\\beta t+R x\n",
        "\\end{align}\n",
        "where $a,b,c,\\gamma, \\beta, R$ are all constant. Here $a,b\\in \\mathbb{R}$ and $c,\\gamma, \\beta\\in \\mathbb{R}^3$ and $R$ is a $3\\times 3$ matrix.\n",
        "\n",
        "\n",
        "The assumption that time is independent of space implies that $c=0$ and the assumption that all inertial observers see the same intervals of time means that necessarily  $b=1$ and hence that $\\tau=t+a$. Hence all inertial observers measure time up to an ambiguity of an additive constant and thus  without loss of generality we may assume that all observers have synchronized their clocks and hence that $a=0$. This also implies that a *universal clock* exists.\n",
        "\n",
        "\n",
        "The assumption that space intervals are inertial observer independent implies that, $||\\xi(t,x_1)-\\xi(t,x_2)||=||x_1-x_2||$. Thus $||R (x_1-x_2)||=||x_1-x_2||$ for all $x_1, x_2$. Thus necessarily $R$ must be an orthogonal\\footnote{A matrix that satisfies the properties $R^TR=RR^T=I$ is called an orthogonal transformation.} constant transformation.\n",
        "\n",
        "Since the space is observed to be homogeneous by all inertial observers without loss of generality we may choose $\\gamma=0$ (note that choosing $\\gamma=0$ amounts to assuming that the origin of the spatial frames of both observers coincide at the time instant $t=0$ and does not sacrifice any generality since the space is homogeneous we can parallel translate the frames until they coincide at the time instant $t=0$).  Thus we see that the representation of the same space-time event by two different inertial observers are related by\n",
        "\\begin{align}\n",
        "(\\tau,\\xi)=(t,\\beta t+Rx).\n",
        "\\end{align}\n",
        "\n",
        "Let $O'$ be the origin of the orthonormal frame used by $\\mathbf{e}'$. If the space-time event $O'$ has the representation $(t,o)$ according to the observer $\\mathbf{e}$, it has the representation $(t,\\beta t+ Ro)=(t,0)$ according to the observer $\\mathbf{e}'$. Thus we have that $\\beta=-R\\dot{o}=-Rv$ where $v=\\dot{o}$ and hence that the velocity of the center of the $\\mathbf{e}'$ frame with respect to the $\\mathbf{e}$ frame, given by $v=\\dot{o}=-R^T\\beta$, must be a constant. **That is we see that all inertial observers must necessarily be translate at constant velocity with respect to each other without rotation.**\n",
        "\n",
        "This also shows that the representation of a space-time event denoted by $(t,x)$ according to $\\mathbf{e}$ must necessarily have the representation $\\left(t,R(x-vt)\\right)$ for some constant $v\\in \\mathbb{R}^3$ according to any other inertial frame $\\mathbf{e}'$. **Space appears to be homogeneous only for such observers.** In particular we can see that this is not the case for observers rotating with respect to an inertial observer $\\mathbf{e}$. That is a rotating observer will not observe space to be homogeneous (Show that this is true.).\n",
        "\n",
        "Since $R$ is a constant, without loss of generality, one can always pick the orthonormal frame used by $\\mathbf{e}'$ to be parallel to the one used by $\\mathbf{e}$ so that $R=I_{3\\times 3}$. Then we see that $\\xi(t)=x(t)-vt$ in parallel translating inertial frames. **It is traditional to refer to parallel frames that translate at constant velocities with respect to each other as {inertial frames}.**"
      ]
    },
    {
      "cell_type": "markdown",
      "metadata": {
        "id": "Rdkx26gwwal_"
      },
      "source": [
        "# Q4 -  An inertial observer $\\mathbf{e}$ notices that an object is moving in a straight line at a constant velocity. Show that all other inertial observers will also agree that the object is moving in a straight line at a constant velocity."
      ]
    },
    {
      "cell_type": "markdown",
      "metadata": {
        "id": "-CkbnlE-wkx5"
      },
      "source": [
        "# Q5 - An inertial observer $\\mathbf{e}$ notices that an object is moving in a straight line at a constant acceleration (for example such as the free falling object under gravity). Show that other inertial observers need not agree that the object is moving in a straight line.\n"
      ]
    },
    {
      "cell_type": "markdown",
      "source": [
        "#Q6 - An inertial observer  notices that an object is moving in a circle at a constant rate in the  frame with the center coniciding with the center of a the  frame. Show that other inertial observers need not agree that the object is moving in a circle."
      ],
      "metadata": {
        "id": "Od3BlRUtq0GD"
      }
    },
    {
      "cell_type": "markdown",
      "metadata": {
        "id": "8zwyAFaAfiLS"
      },
      "source": [
        "# Answers to Q5, Q6 and Q7"
      ]
    },
    {
      "cell_type": "markdown",
      "metadata": {
        "id": "8--9YOQaALj9"
      },
      "source": [
        "Let $\\mathbf{e}$ and $\\mathbf{e}'$ represent two inertial observers with $\\mathbf{e}'$ moving  parallel to $\\mathbf{e}$ at a constant velocity $v=[v_1\\:\\:\\:v_2\\:\\:\\:v_3]^T$.\n",
        "\n",
        "If $(t,x)$ is a representation of a point $P$ in $\\mathbf{e}$ we have seen in Q5 that this same point has the representation $\\left(t,(x-vt)\\right)$ in the $\\mathbf{e}'$ frame.\n",
        "\n",
        "If the point $P$ is seen to be moving in a straight line by $\\mathbf{e}$ (without loss of generality say a straight line through the origin) then $x(t)=f(t)\\,a$ where $a=[a_1\\:\\:\\:a_2\\:\\:\\:a_3]$ is a constant and $f(\\cdot)$ is some function of time. Then this point has the representation $\\left(t,(f(t)\\,a-vt)\\right)$ in the $\\mathbf{e}'$ frame."
      ]
    },
    {
      "cell_type": "markdown",
      "metadata": {
        "id": "aq8Zrx83ffwi"
      },
      "source": [
        "## Answer to Q5"
      ]
    },
    {
      "cell_type": "markdown",
      "metadata": {
        "id": "o8pXdTx3f53c"
      },
      "source": [
        "If $P$ is observed in $\\mathbf{e}$ to move in a straight line at a constant velocity then $f(t)\\equiv t$ and then in the $\\mathbf{e}'$ frame this point has the representation $\\left(t,t(a-v)\\right)$ and hence is observed to be moving in a straight line as well."
      ]
    },
    {
      "cell_type": "code",
      "metadata": {
        "id": "tdnFRu3KwtiX"
      },
      "source": [
        "a=np.array([1,0,0]);\n",
        "v=np.array([0,0,1])\n",
        "tt=np.linspace(0,5,101)\n",
        "zeta=np.zeros((len(tt),3));\n",
        "for i,t in enumerate(tt):\n",
        "  zeta[i,:]=t*(a-v);"
      ],
      "execution_count": null,
      "outputs": []
    },
    {
      "cell_type": "code",
      "metadata": {
        "id": "BN0qpk7wxSxR"
      },
      "source": [
        "fig=mr.animate_particle_motion(zeta,[[-3,3],[-3,3],[-3,3]],'Motion in the e-prime frame')"
      ],
      "execution_count": null,
      "outputs": []
    },
    {
      "cell_type": "markdown",
      "metadata": {
        "id": "23V9PVu_qI90"
      },
      "source": [
        "## Answer to Q6"
      ]
    },
    {
      "cell_type": "markdown",
      "metadata": {
        "id": "FO5QZl32qPvi"
      },
      "source": [
        "If $P$ is observed in $\\mathbf{e}$ to move in a straight line at a constant acceleration then $f(t)\\equiv t^2$ and then in the $\\mathbf{e}'$ frame this point has the representation $\\left(t,t(at-v)\\right)$ and hence is observed to be moving in a **curved** path."
      ]
    },
    {
      "cell_type": "code",
      "metadata": {
        "id": "HZk9MsIXq0ET"
      },
      "source": [
        "a=np.array([0,0,-1]);\n",
        "v=np.array([1,0,0])\n",
        "tt=np.linspace(0,5,101)\n",
        "zeta=np.zeros((len(tt),3));\n",
        "for i,t in enumerate(tt):\n",
        "  zeta[i,:]=t*(t*a-v);"
      ],
      "execution_count": null,
      "outputs": []
    },
    {
      "cell_type": "code",
      "metadata": {
        "id": "yunQnrpxtW-p"
      },
      "source": [
        "fig=mr.animate_particle_motion(zeta,[[-3,3],[-3,3],[-3,3]],'Motion in the e-prime frame')"
      ],
      "execution_count": null,
      "outputs": []
    },
    {
      "cell_type": "markdown",
      "metadata": {
        "id": "rzzvdtSSra9Z"
      },
      "source": [
        "## Answer to Q7"
      ]
    },
    {
      "cell_type": "markdown",
      "metadata": {
        "id": "3GecZpCura9a"
      },
      "source": [
        "If $P$ is observed in $\\mathbf{e}$ to move in a circle at a constant rate in the $\\mathbf{e}_1,\\mathbf{e}_2$ plane then $P$ has the representation $\\left(t, (\\sin{(\\omega t)},\\cos{(\\omega t)},0)\\right)$. Then in the $\\mathbf{e}'$ frame that is moving in the $\\mathbf{e}_3$ direction at a constant rate $\\v$ we see that this point has the representation $\\left(t, (\\sin{(\\omega t)},\\cos{(\\omega t)},-vt)\\right)$ and hence is observed to be moving in a **helical** path."
      ]
    },
    {
      "cell_type": "code",
      "metadata": {
        "id": "oVsQkBbOra9a"
      },
      "source": [
        "v=np.array([0,0,1])\n",
        "w=4;\n",
        "tt=np.linspace(0,5,101)\n",
        "zeta=np.zeros((len(tt),3));\n",
        "for i,t in enumerate(tt):\n",
        "    a=np.array([np.sin(w*t),np.cos(w*t),0]);\n",
        "    zeta[i,:]=(a-v*t);"
      ],
      "execution_count": null,
      "outputs": []
    },
    {
      "cell_type": "code",
      "metadata": {
        "id": "aQFZoL5kra9b"
      },
      "source": [
        "fig=mr.animate_particle_motion(zeta,[[-3,3],[-3,3],[-3,3]],'Motion in the e-prime frame')"
      ],
      "execution_count": null,
      "outputs": []
    },
    {
      "cell_type": "code",
      "metadata": {
        "id": "bcSg9EXura9b"
      },
      "source": [],
      "execution_count": null,
      "outputs": []
    }
  ]
}